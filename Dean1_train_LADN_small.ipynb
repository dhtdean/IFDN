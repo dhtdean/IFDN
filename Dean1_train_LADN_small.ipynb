{
 "cells": [
  {
   "cell_type": "markdown",
   "metadata": {
    "colab_type": "text",
    "id": "yBcO3gXkfexO"
   },
   "source": [
    "# 1. Import Dependent Libs and Set Paths"
   ]
  },
  {
   "cell_type": "code",
   "execution_count": 1,
   "metadata": {
    "colab": {},
    "colab_type": "code",
    "id": "XkSm0E62Z9E5"
   },
   "outputs": [],
   "source": [
    "import os\n",
    "import numpy as np \n",
    "import cv2\n",
    "import requests\n",
    "import sys\n",
    "\n",
    "from PIL import Image\n",
    "from io import BytesIO\n",
    "from matplotlib import pyplot\n"
   ]
  },
  {
   "cell_type": "code",
   "execution_count": 2,
   "metadata": {
    "colab": {},
    "colab_type": "code",
    "id": "fLLbde5IfvOn"
   },
   "outputs": [],
   "source": [
    "os.chdir('/home/ubuntu/')\n",
    "manTraNet_root = './ManTraNet/'\n",
    "manTraNet_srcDir = os.path.join( manTraNet_root, 'src' )\n",
    "sys.path.insert( 0, manTraNet_srcDir )\n",
    "manTraNet_modelDir = os.path.join( manTraNet_root, 'pretrained_weights' )"
   ]
  },
  {
   "cell_type": "markdown",
   "metadata": {},
   "source": [
    "# 2. Function Definition"
   ]
  },
  {
   "cell_type": "code",
   "execution_count": 3,
   "metadata": {},
   "outputs": [],
   "source": [
    "# define train_dev_test_split\n",
    "def train_dev_test_split(X,Y,ratio = [8,1,1]):\n",
    "    np.random.seed(0)\n",
    "    r_total = np.sum(ratio)\n",
    "    ind0 = int(ratio[0]/r_total * X.shape[0])\n",
    "    ind1 = int((ratio[1] + ratio[0])/r_total * X.shape[0])\n",
    "    indices = np.random.permutation(X.shape[0])\n",
    "    train_idx, dev_idx, test_idx = indices[:ind0], indices[ind0:ind1], indices[ind1:]\n",
    "    x_train, x_dev, x_test = X[train_idx,:], X[dev_idx,:], X[test_idx,:]\n",
    "    y_train, y_dev, y_test = Y[train_idx,:], Y[dev_idx,:], Y[test_idx,:]\n",
    "    return x_train, y_train, x_dev, y_dev, x_test, y_test"
   ]
  },
  {
   "cell_type": "markdown",
   "metadata": {
    "colab_type": "text",
    "id": "F_68Ehftf-Yo"
   },
   "source": [
    "# 3. Load Sample Data "
   ]
  },
  {
   "cell_type": "code",
   "execution_count": 4,
   "metadata": {
    "colab": {
     "base_uri": "https://localhost:8080/",
     "height": 34
    },
    "colab_type": "code",
    "id": "OfG_uW5FgKlw",
    "outputId": "f2a91ffa-985d-4f65-c3bd-e6640ac746b9"
   },
   "outputs": [
    {
     "name": "stdout",
     "output_type": "stream",
     "text": [
      "INFO: in total, load 72 samples\n"
     ]
    }
   ],
   "source": [
    "manTraNet_dataDir = os.path.join( manTraNet_root, 'data' )\n",
    "sample_file = os.path.join( manTraNet_dataDir, 'samplePairs.csv' )\n",
    "assert os.path.isfile( sample_file ), \"ERROR: can NOT find sample data, check `manTraNet_root`\"\n",
    "with open( sample_file ) as IN :\n",
    "    sample_pairs = [line.strip().split(',') for line in IN.readlines() ]\n",
    "L = len(sample_pairs)\n",
    "print(\"INFO: in total, load\", L, \"samples\")\n",
    "    \n",
    "def get_a_random_pair() :\n",
    "    idx = np.random.randint(0,L)\n",
    "    return ( os.path.join( manTraNet_dataDir, this ) for this in sample_pairs[idx] ) "
   ]
  },
  {
   "cell_type": "markdown",
   "metadata": {
    "colab_type": "text",
    "id": "q71lTGuugVoy"
   },
   "source": [
    "# 4. Load A Pretrained ManTraNet Model"
   ]
  },
  {
   "cell_type": "code",
   "execution_count": 5,
   "metadata": {
    "colab": {
     "base_uri": "https://localhost:8080/",
     "height": 149
    },
    "colab_type": "code",
    "id": "iFVAQIBmgdr3",
    "outputId": "0550880e-2c41-4d2c-c0ff-cc481bfd45c2"
   },
   "outputs": [
    {
     "name": "stderr",
     "output_type": "stream",
     "text": [
      "Using TensorFlow backend.\n"
     ]
    },
    {
     "name": "stdout",
     "output_type": "stream",
     "text": [
      "WARNING:tensorflow:From /home/ubuntu/anaconda3/envs/tensorflow_p36/lib/python3.6/site-packages/keras/backend/tensorflow_backend.py:517: The name tf.placeholder is deprecated. Please use tf.compat.v1.placeholder instead.\n",
      "\n",
      "WARNING:tensorflow:From /home/ubuntu/anaconda3/envs/tensorflow_p36/lib/python3.6/site-packages/keras/backend/tensorflow_backend.py:4138: The name tf.random_uniform is deprecated. Please use tf.random.uniform instead.\n",
      "\n",
      "INFO: use activation in the last CONV=None\n",
      "INFO: unfreeze feature extraction part, trainable=True\n",
      "WARNING:tensorflow:From /home/ubuntu/anaconda3/envs/tensorflow_p36/lib/python3.6/site-packages/keras/backend/tensorflow_backend.py:245: The name tf.get_default_graph is deprecated. Please use tf.compat.v1.get_default_graph instead.\n",
      "\n",
      "WARNING:tensorflow:From /home/ubuntu/anaconda3/envs/tensorflow_p36/lib/python3.6/site-packages/keras/backend/tensorflow_backend.py:174: The name tf.get_default_session is deprecated. Please use tf.compat.v1.get_default_session instead.\n",
      "\n",
      "WARNING:tensorflow:From /home/ubuntu/anaconda3/envs/tensorflow_p36/lib/python3.6/site-packages/keras/backend/tensorflow_backend.py:181: The name tf.ConfigProto is deprecated. Please use tf.compat.v1.ConfigProto instead.\n",
      "\n",
      "WARNING:tensorflow:From /home/ubuntu/anaconda3/envs/tensorflow_p36/lib/python3.6/site-packages/keras/backend/tensorflow_backend.py:1834: The name tf.nn.fused_batch_norm is deprecated. Please use tf.compat.v1.nn.fused_batch_norm instead.\n",
      "\n"
     ]
    }
   ],
   "source": [
    "os.chdir('/home/ubuntu/')\n",
    "import modelCore\n",
    "manTraNet = modelCore.load_pretrain_model_by_index( 4, manTraNet_modelDir )"
   ]
  },
  {
   "cell_type": "code",
   "execution_count": 6,
   "metadata": {
    "colab": {
     "base_uri": "https://localhost:8080/",
     "height": 510
    },
    "colab_type": "code",
    "id": "HAu-EWn2i3XU",
    "outputId": "2be04ae0-7b1b-44c0-fdf2-0bcd067ffa2c",
    "scrolled": true
   },
   "outputs": [
    {
     "name": "stdout",
     "output_type": "stream",
     "text": [
      "________________________________________________________________________________________________________________________\n",
      "Layer (type)                           Output Shape               Param #       Connected to                            \n",
      "========================================================================================================================\n",
      "img_in (InputLayer)                    (None, None, None, 3)      0                                                     \n",
      "________________________________________________________________________________________________________________________\n",
      "Featex (Model)                         (None, None, None, 256)    3675181       img_in[0][0]                            \n",
      "________________________________________________________________________________________________________________________\n",
      "outlierTrans (Conv2D)                  (None, None, None, 64)     16384         Featex[1][0]                            \n",
      "________________________________________________________________________________________________________________________\n",
      "bnorm (BatchNormalization)             (None, None, None, 64)     128           outlierTrans[0][0]                      \n",
      "________________________________________________________________________________________________________________________\n",
      "glbStd (GlobalStd2D)                   (None, 1, 1, 64)           64            bnorm[0][0]                             \n",
      "________________________________________________________________________________________________________________________\n",
      "nestedAvgFeatex (NestedWindowAverageFe (None, 4, None, None, 64)  0             bnorm[0][0]                             \n",
      "________________________________________________________________________________________________________________________\n",
      "expTime (Lambda)                       (None, 1, 1, 1, 64)        0             glbStd[0][0]                            \n",
      "________________________________________________________________________________________________________________________\n",
      "divStd (Lambda)                        (None, 4, None, None, 64)  0             nestedAvgFeatex[0][0]                   \n",
      "                                                                                expTime[0][0]                           \n",
      "________________________________________________________________________________________________________________________\n",
      "cLSTM (ConvLSTM2D)                     (None, None, None, 8)      112928        divStd[0][0]                            \n",
      "________________________________________________________________________________________________________________________\n",
      "pred (Conv2D)                          (None, None, None, 1)      393           cLSTM[0][0]                             \n",
      "========================================================================================================================\n",
      "Total params: 3,805,078\n",
      "Trainable params: 3,804,950\n",
      "Non-trainable params: 128\n",
      "________________________________________________________________________________________________________________________\n",
      "None\n"
     ]
    }
   ],
   "source": [
    "# ManTraNet Architecture \n",
    "print(manTraNet.summary(line_length=120))"
   ]
  },
  {
   "cell_type": "code",
   "execution_count": 22,
   "metadata": {
    "colab": {
     "base_uri": "https://localhost:8080/",
     "height": 719
    },
    "colab_type": "code",
    "id": "Gz9AfjZljJN8",
    "outputId": "bc659245-f183-4d1a-d084-75201e794654"
   },
   "outputs": [
    {
     "name": "stdout",
     "output_type": "stream",
     "text": [
      "________________________________________________________________________________________________________________________\n",
      "Layer (type)                                          Output Shape                                    Param #           \n",
      "========================================================================================================================\n",
      "image_in (InputLayer)                                 (None, None, None, 3)                           0                 \n",
      "________________________________________________________________________________________________________________________\n",
      "b1c1 (CombinedConv2D)                                 (None, None, None, 16)                          525               \n",
      "________________________________________________________________________________________________________________________\n",
      "b1c2 (Conv2DSymPadding)                               (None, None, None, 32)                          4640              \n",
      "________________________________________________________________________________________________________________________\n",
      "b2c1 (Conv2DSymPadding)                               (None, None, None, 64)                          18496             \n",
      "________________________________________________________________________________________________________________________\n",
      "b2c2 (Conv2DSymPadding)                               (None, None, None, 64)                          36928             \n",
      "________________________________________________________________________________________________________________________\n",
      "b3c1 (Conv2DSymPadding)                               (None, None, None, 128)                         73856             \n",
      "________________________________________________________________________________________________________________________\n",
      "b3c2 (Conv2DSymPadding)                               (None, None, None, 128)                         147584            \n",
      "________________________________________________________________________________________________________________________\n",
      "b3c3 (Conv2DSymPadding)                               (None, None, None, 128)                         147584            \n",
      "________________________________________________________________________________________________________________________\n",
      "b4c1 (Conv2DSymPadding)                               (None, None, None, 256)                         295168            \n",
      "________________________________________________________________________________________________________________________\n",
      "b4c2 (Conv2DSymPadding)                               (None, None, None, 256)                         590080            \n",
      "________________________________________________________________________________________________________________________\n",
      "b4c3 (Conv2DSymPadding)                               (None, None, None, 256)                         590080            \n",
      "________________________________________________________________________________________________________________________\n",
      "b5c1 (Conv2DSymPadding)                               (None, None, None, 256)                         590080            \n",
      "________________________________________________________________________________________________________________________\n",
      "b5c2 (Conv2DSymPadding)                               (None, None, None, 256)                         590080            \n",
      "________________________________________________________________________________________________________________________\n",
      "transform (Conv2DSymPadding)                          (None, None, None, 256)                         590080            \n",
      "________________________________________________________________________________________________________________________\n",
      "L2 (Lambda)                                           (None, None, None, 256)                         0                 \n",
      "========================================================================================================================\n",
      "Total params: 3,675,181\n",
      "Trainable params: 3,675,181\n",
      "Non-trainable params: 0\n",
      "________________________________________________________________________________________________________________________\n",
      "None\n"
     ]
    }
   ],
   "source": [
    "# Image Manipulation Classification Network\n",
    "IMCFeatex = manTraNet.get_layer('Featex')\n",
    "print(IMCFeatex.summary(line_length=120))"
   ]
  },
  {
   "cell_type": "markdown",
   "metadata": {},
   "source": [
    "# 5. Train the data"
   ]
  },
  {
   "cell_type": "code",
   "execution_count": 23,
   "metadata": {},
   "outputs": [
    {
     "data": {
      "text/plain": [
       "\"\\nrow_size = 224\\ncol_size = 224\\nX_train = []\\nY_train = []\\n\\n# read image from CM data, split into 300 * 400\\nos.chdir('/home/ubuntu/cs230_project_shared/benchmark_data_copy_move/C1_panasonic/')\\nread_image_cm_data(X_train, Y_train, row_size, col_size)\\nprint('1 finish')\\nos.chdir('/home/ubuntu/cs230_project_shared/benchmark_data_copy_move/C2_canon/')\\nread_image_cm_data(X_train, Y_train, row_size, col_size)\\nprint('2 finish')\\nos.chdir('/home/ubuntu/cs230_project_shared/benchmark_data_copy_move/C3_nikon/')\\nread_image_cm_data(X_train, Y_train, row_size, col_size)\\nprint('3 finish')\\n#os.chdir('/home/ubuntu/cs230_project_shared/benchmark_data_copy_move/C4_flickr/')\\n#read_image_cm_data(X_train, Y_train, row_size, col_size)\\nprint('4 finish')\\nnp.save('X_train',X_train)\\nnp.save('Y_train',Y_train)\\n# read image from COCO data, split into 300 * 400\\n#os.chdir('/home/ubuntu/cs230_project_shared/val2017_unsure_type_cocodataset')\\n#read_image_dresden_data(X_train, Y_train, row_size, col_size)\\nX = np.array(X_train)\\nY = np.array(Y_train)\\n\""
      ]
     },
     "execution_count": 23,
     "metadata": {},
     "output_type": "execute_result"
    }
   ],
   "source": [
    "\"\"\"\n",
    "row_size = 224\n",
    "col_size = 224\n",
    "X_train = []\n",
    "Y_train = []\n",
    "\n",
    "# read image from CM data, split into 300 * 400\n",
    "os.chdir('/home/ubuntu/cs230_project_shared/benchmark_data_copy_move/C1_panasonic/')\n",
    "read_image_cm_data(X_train, Y_train, row_size, col_size)\n",
    "print('1 finish')\n",
    "os.chdir('/home/ubuntu/cs230_project_shared/benchmark_data_copy_move/C2_canon/')\n",
    "read_image_cm_data(X_train, Y_train, row_size, col_size)\n",
    "print('2 finish')\n",
    "os.chdir('/home/ubuntu/cs230_project_shared/benchmark_data_copy_move/C3_nikon/')\n",
    "read_image_cm_data(X_train, Y_train, row_size, col_size)\n",
    "print('3 finish')\n",
    "#os.chdir('/home/ubuntu/cs230_project_shared/benchmark_data_copy_move/C4_flickr/')\n",
    "#read_image_cm_data(X_train, Y_train, row_size, col_size)\n",
    "print('4 finish')\n",
    "np.save('X_train',X_train)\n",
    "np.save('Y_train',Y_train)\n",
    "# read image from COCO data, split into 300 * 400\n",
    "#os.chdir('/home/ubuntu/cs230_project_shared/val2017_unsure_type_cocodataset')\n",
    "#read_image_dresden_data(X_train, Y_train, row_size, col_size)\n",
    "X = np.array(X_train)\n",
    "Y = np.array(Y_train)\n",
    "\"\"\"\n"
   ]
  },
  {
   "cell_type": "code",
   "execution_count": 6,
   "metadata": {
    "colab": {
     "base_uri": "https://localhost:8080/",
     "height": 917
    },
    "colab_type": "code",
    "id": "XrsYCkBh-7Yp",
    "outputId": "5646e398-070e-4b93-91e9-f2b391ef8476"
   },
   "outputs": [],
   "source": [
    "# load training data\n",
    "#X_train = np.load('X_train_1.npy')\n",
    "#X_dev = np.load('X_dev_1.npy')\n",
    "X_test = np.load('X_test_1.npy')\n",
    "#Y_train = np.load('Y_train_1.npy')\n",
    "#Y_dev = np.load('Y_dev_1.npy')\n",
    "Y_test = np.load('Y_test_1.npy')"
   ]
  },
  {
   "cell_type": "code",
   "execution_count": 7,
   "metadata": {},
   "outputs": [],
   "source": [
    "dir = os.getcwd()\n",
    "dir = dir + '/ManTraNet/pretrained_weights'\n",
    "os.chdir('/home/ubuntu/')"
   ]
  },
  {
   "cell_type": "code",
   "execution_count": 7,
   "metadata": {},
   "outputs": [
    {
     "name": "stdout",
     "output_type": "stream",
     "text": [
      "(8000, 224, 224, 3)\n",
      "(8000, 224, 224, 1)\n"
     ]
    }
   ],
   "source": [
    "print(X_train.shape)\n",
    "print(Y_train.shape)"
   ]
  },
  {
   "cell_type": "code",
   "execution_count": 10,
   "metadata": {
    "colab": {
     "base_uri": "https://localhost:8080/",
     "height": 646
    },
    "colab_type": "code",
    "id": "07hCKL-UNKBM",
    "outputId": "633eb66b-2327-4fab-b310-1dff40b45cb0"
   },
   "outputs": [
    {
     "name": "stdout",
     "output_type": "stream",
     "text": [
      "INFO: use activation in the last CONV=None\n",
      "INFO: unfreeze feature extraction part, trainable=True\n",
      "WARNING:tensorflow:From /home/ubuntu/anaconda3/envs/tensorflow_p36/lib/python3.6/site-packages/keras/optimizers.py:790: The name tf.train.Optimizer is deprecated. Please use tf.compat.v1.train.Optimizer instead.\n",
      "\n",
      "WARNING:tensorflow:From /home/ubuntu/anaconda3/envs/tensorflow_p36/lib/python3.6/site-packages/tensorflow/python/ops/nn_impl.py:180: add_dispatch_support.<locals>.wrapper (from tensorflow.python.ops.array_ops) is deprecated and will be removed in a future version.\n",
      "Instructions for updating:\n",
      "Use tf.where in 2.0, which has the same broadcast rule as np.where\n",
      "__________________________________________________________________________________________________\n",
      "Layer (type)                    Output Shape         Param #     Connected to                     \n",
      "==================================================================================================\n",
      "img_in (InputLayer)             (None, None, None, 3 0                                            \n",
      "__________________________________________________________________________________________________\n",
      "Featex (Model)                  (None, None, None, 2 3675181     img_in[0][0]                     \n",
      "__________________________________________________________________________________________________\n",
      "outlierTrans (Conv2D)           (None, None, None, 6 16384       Featex[1][0]                     \n",
      "__________________________________________________________________________________________________\n",
      "bnorm (BatchNormalization)      (None, None, None, 6 128         outlierTrans[0][0]               \n",
      "__________________________________________________________________________________________________\n",
      "glbStd (GlobalStd2D)            (None, 1, 1, 64)     64          bnorm[0][0]                      \n",
      "__________________________________________________________________________________________________\n",
      "nestedAvgFeatex (NestedWindowAv (None, 4, None, None 0           bnorm[0][0]                      \n",
      "__________________________________________________________________________________________________\n",
      "expTime (Lambda)                (None, 1, 1, 1, 64)  0           glbStd[0][0]                     \n",
      "__________________________________________________________________________________________________\n",
      "divStd (Lambda)                 (None, 4, None, None 0           nestedAvgFeatex[0][0]            \n",
      "                                                                 expTime[0][0]                    \n",
      "__________________________________________________________________________________________________\n",
      "cLSTM (ConvLSTM2D)              (None, None, None, 8 112928      divStd[0][0]                     \n",
      "__________________________________________________________________________________________________\n",
      "pred (Conv2D)                   (None, None, None, 1 393         cLSTM[0][0]                      \n",
      "==================================================================================================\n",
      "Total params: 3,805,078\n",
      "Trainable params: 113,321\n",
      "Non-trainable params: 3,691,757\n",
      "__________________________________________________________________________________________________\n",
      "Epoch 1/20\n",
      "8000/8000 [==============================] - 2657s 332ms/step - loss: 0.2807 - acc: 0.9115\n",
      "Epoch 2/20\n",
      "8000/8000 [==============================] - 2647s 331ms/step - loss: 0.2688 - acc: 0.9160\n",
      "Epoch 3/20\n",
      "8000/8000 [==============================] - 2663s 333ms/step - loss: 0.2623 - acc: 0.9178\n",
      "Epoch 4/20\n",
      "8000/8000 [==============================] - 2642s 330ms/step - loss: 0.2570 - acc: 0.9183\n",
      "Epoch 5/20\n",
      "8000/8000 [==============================] - 2654s 332ms/step - loss: 0.2546 - acc: 0.9188\n",
      "Epoch 6/20\n",
      "8000/8000 [==============================] - 2680s 335ms/step - loss: 0.2511 - acc: 0.9194\n",
      "Epoch 7/20\n",
      "8000/8000 [==============================] - 2677s 335ms/step - loss: 0.2501 - acc: 0.9201\n",
      "Epoch 8/20\n",
      "8000/8000 [==============================] - 2675s 334ms/step - loss: 0.2468 - acc: 0.9208\n",
      "Epoch 9/20\n",
      "8000/8000 [==============================] - 2676s 335ms/step - loss: 0.2448 - acc: 0.9216\n",
      "Epoch 10/20\n",
      "8000/8000 [==============================] - 2677s 335ms/step - loss: 0.2460 - acc: 0.9213\n",
      "Epoch 11/20\n",
      "8000/8000 [==============================] - 2661s 333ms/step - loss: 0.2476 - acc: 0.9210\n",
      "Epoch 12/20\n",
      "8000/8000 [==============================] - 2681s 335ms/step - loss: 0.2432 - acc: 0.9218\n",
      "Epoch 13/20\n",
      "8000/8000 [==============================] - 2669s 334ms/step - loss: 0.2426 - acc: 0.9223\n",
      "Epoch 14/20\n",
      " 168/8000 [..............................] - ETA: 43:03 - loss: 0.2530 - acc: 0.9170"
     ]
    },
    {
     "ename": "KeyboardInterrupt",
     "evalue": "",
     "output_type": "error",
     "traceback": [
      "\u001b[0;31m---------------------------------------------------------------------------\u001b[0m",
      "\u001b[0;31mKeyboardInterrupt\u001b[0m                         Traceback (most recent call last)",
      "\u001b[0;32m<ipython-input-10-ec7040f7eede>\u001b[0m in \u001b[0;36m<module>\u001b[0;34m()\u001b[0m\n\u001b[1;32m     12\u001b[0m \u001b[0;31m#filepath = \"saved-model-{epoch:02d}-{val_acc:.2f}.hdf5\"\u001b[0m\u001b[0;34m\u001b[0m\u001b[0;34m\u001b[0m\u001b[0m\n\u001b[1;32m     13\u001b[0m \u001b[0mcheckpoint\u001b[0m \u001b[0;34m=\u001b[0m \u001b[0mModelCheckpoint\u001b[0m\u001b[0;34m(\u001b[0m\u001b[0mfilepath\u001b[0m\u001b[0;34m,\u001b[0m \u001b[0mmonitor\u001b[0m\u001b[0;34m=\u001b[0m\u001b[0;34m'val_acc'\u001b[0m\u001b[0;34m,\u001b[0m \u001b[0mverbose\u001b[0m\u001b[0;34m=\u001b[0m\u001b[0;36m0\u001b[0m\u001b[0;34m,\u001b[0m \u001b[0msave_best_only\u001b[0m\u001b[0;34m=\u001b[0m\u001b[0;32mFalse\u001b[0m\u001b[0;34m,\u001b[0m \u001b[0msave_weights_only\u001b[0m\u001b[0;34m=\u001b[0m\u001b[0;32mFalse\u001b[0m\u001b[0;34m,\u001b[0m \u001b[0mmode\u001b[0m\u001b[0;34m=\u001b[0m\u001b[0;34m'auto'\u001b[0m\u001b[0;34m,\u001b[0m \u001b[0mperiod\u001b[0m\u001b[0;34m=\u001b[0m\u001b[0;36m1\u001b[0m\u001b[0;34m)\u001b[0m\u001b[0;34m\u001b[0m\u001b[0m\n\u001b[0;32m---> 14\u001b[0;31m \u001b[0msingle_gpu_model\u001b[0m\u001b[0;34m.\u001b[0m\u001b[0mfit\u001b[0m\u001b[0;34m(\u001b[0m\u001b[0mX_train\u001b[0m\u001b[0;34m,\u001b[0m \u001b[0mY_train\u001b[0m\u001b[0;34m,\u001b[0m \u001b[0mepochs\u001b[0m\u001b[0;34m=\u001b[0m\u001b[0;36m20\u001b[0m\u001b[0;34m,\u001b[0m \u001b[0mbatch_size\u001b[0m\u001b[0;34m=\u001b[0m\u001b[0;36m4\u001b[0m\u001b[0;34m,\u001b[0m \u001b[0mcallbacks\u001b[0m \u001b[0;34m=\u001b[0m \u001b[0;34m[\u001b[0m\u001b[0mcheckpoint\u001b[0m\u001b[0;34m]\u001b[0m\u001b[0;34m)\u001b[0m\u001b[0;34m\u001b[0m\u001b[0m\n\u001b[0m",
      "\u001b[0;32m~/anaconda3/envs/tensorflow_p36/lib/python3.6/site-packages/keras/engine/training.py\u001b[0m in \u001b[0;36mfit\u001b[0;34m(self, x, y, batch_size, epochs, verbose, callbacks, validation_split, validation_data, shuffle, class_weight, sample_weight, initial_epoch, steps_per_epoch, validation_steps, **kwargs)\u001b[0m\n\u001b[1;32m   1037\u001b[0m                                         \u001b[0minitial_epoch\u001b[0m\u001b[0;34m=\u001b[0m\u001b[0minitial_epoch\u001b[0m\u001b[0;34m,\u001b[0m\u001b[0;34m\u001b[0m\u001b[0m\n\u001b[1;32m   1038\u001b[0m                                         \u001b[0msteps_per_epoch\u001b[0m\u001b[0;34m=\u001b[0m\u001b[0msteps_per_epoch\u001b[0m\u001b[0;34m,\u001b[0m\u001b[0;34m\u001b[0m\u001b[0m\n\u001b[0;32m-> 1039\u001b[0;31m                                         validation_steps=validation_steps)\n\u001b[0m\u001b[1;32m   1040\u001b[0m \u001b[0;34m\u001b[0m\u001b[0m\n\u001b[1;32m   1041\u001b[0m     def evaluate(self, x=None, y=None,\n",
      "\u001b[0;32m~/anaconda3/envs/tensorflow_p36/lib/python3.6/site-packages/keras/engine/training_arrays.py\u001b[0m in \u001b[0;36mfit_loop\u001b[0;34m(model, f, ins, out_labels, batch_size, epochs, verbose, callbacks, val_f, val_ins, shuffle, callback_metrics, initial_epoch, steps_per_epoch, validation_steps)\u001b[0m\n\u001b[1;32m    197\u001b[0m                     \u001b[0mins_batch\u001b[0m\u001b[0;34m[\u001b[0m\u001b[0mi\u001b[0m\u001b[0;34m]\u001b[0m \u001b[0;34m=\u001b[0m \u001b[0mins_batch\u001b[0m\u001b[0;34m[\u001b[0m\u001b[0mi\u001b[0m\u001b[0;34m]\u001b[0m\u001b[0;34m.\u001b[0m\u001b[0mtoarray\u001b[0m\u001b[0;34m(\u001b[0m\u001b[0;34m)\u001b[0m\u001b[0;34m\u001b[0m\u001b[0m\n\u001b[1;32m    198\u001b[0m \u001b[0;34m\u001b[0m\u001b[0m\n\u001b[0;32m--> 199\u001b[0;31m                 \u001b[0mouts\u001b[0m \u001b[0;34m=\u001b[0m \u001b[0mf\u001b[0m\u001b[0;34m(\u001b[0m\u001b[0mins_batch\u001b[0m\u001b[0;34m)\u001b[0m\u001b[0;34m\u001b[0m\u001b[0m\n\u001b[0m\u001b[1;32m    200\u001b[0m                 \u001b[0mouts\u001b[0m \u001b[0;34m=\u001b[0m \u001b[0mto_list\u001b[0m\u001b[0;34m(\u001b[0m\u001b[0mouts\u001b[0m\u001b[0;34m)\u001b[0m\u001b[0;34m\u001b[0m\u001b[0m\n\u001b[1;32m    201\u001b[0m                 \u001b[0;32mfor\u001b[0m \u001b[0ml\u001b[0m\u001b[0;34m,\u001b[0m \u001b[0mo\u001b[0m \u001b[0;32min\u001b[0m \u001b[0mzip\u001b[0m\u001b[0;34m(\u001b[0m\u001b[0mout_labels\u001b[0m\u001b[0;34m,\u001b[0m \u001b[0mouts\u001b[0m\u001b[0;34m)\u001b[0m\u001b[0;34m:\u001b[0m\u001b[0;34m\u001b[0m\u001b[0m\n",
      "\u001b[0;32m~/anaconda3/envs/tensorflow_p36/lib/python3.6/site-packages/keras/backend/tensorflow_backend.py\u001b[0m in \u001b[0;36m__call__\u001b[0;34m(self, inputs)\u001b[0m\n\u001b[1;32m   2713\u001b[0m                 \u001b[0;32mreturn\u001b[0m \u001b[0mself\u001b[0m\u001b[0;34m.\u001b[0m\u001b[0m_legacy_call\u001b[0m\u001b[0;34m(\u001b[0m\u001b[0minputs\u001b[0m\u001b[0;34m)\u001b[0m\u001b[0;34m\u001b[0m\u001b[0m\n\u001b[1;32m   2714\u001b[0m \u001b[0;34m\u001b[0m\u001b[0m\n\u001b[0;32m-> 2715\u001b[0;31m             \u001b[0;32mreturn\u001b[0m \u001b[0mself\u001b[0m\u001b[0;34m.\u001b[0m\u001b[0m_call\u001b[0m\u001b[0;34m(\u001b[0m\u001b[0minputs\u001b[0m\u001b[0;34m)\u001b[0m\u001b[0;34m\u001b[0m\u001b[0m\n\u001b[0m\u001b[1;32m   2716\u001b[0m         \u001b[0;32melse\u001b[0m\u001b[0;34m:\u001b[0m\u001b[0;34m\u001b[0m\u001b[0m\n\u001b[1;32m   2717\u001b[0m             \u001b[0;32mif\u001b[0m \u001b[0mpy_any\u001b[0m\u001b[0;34m(\u001b[0m\u001b[0mis_tensor\u001b[0m\u001b[0;34m(\u001b[0m\u001b[0mx\u001b[0m\u001b[0;34m)\u001b[0m \u001b[0;32mfor\u001b[0m \u001b[0mx\u001b[0m \u001b[0;32min\u001b[0m \u001b[0minputs\u001b[0m\u001b[0;34m)\u001b[0m\u001b[0;34m:\u001b[0m\u001b[0;34m\u001b[0m\u001b[0m\n",
      "\u001b[0;32m~/anaconda3/envs/tensorflow_p36/lib/python3.6/site-packages/keras/backend/tensorflow_backend.py\u001b[0m in \u001b[0;36m_call\u001b[0;34m(self, inputs)\u001b[0m\n\u001b[1;32m   2673\u001b[0m             \u001b[0mfetched\u001b[0m \u001b[0;34m=\u001b[0m \u001b[0mself\u001b[0m\u001b[0;34m.\u001b[0m\u001b[0m_callable_fn\u001b[0m\u001b[0;34m(\u001b[0m\u001b[0;34m*\u001b[0m\u001b[0marray_vals\u001b[0m\u001b[0;34m,\u001b[0m \u001b[0mrun_metadata\u001b[0m\u001b[0;34m=\u001b[0m\u001b[0mself\u001b[0m\u001b[0;34m.\u001b[0m\u001b[0mrun_metadata\u001b[0m\u001b[0;34m)\u001b[0m\u001b[0;34m\u001b[0m\u001b[0m\n\u001b[1;32m   2674\u001b[0m         \u001b[0;32melse\u001b[0m\u001b[0;34m:\u001b[0m\u001b[0;34m\u001b[0m\u001b[0m\n\u001b[0;32m-> 2675\u001b[0;31m             \u001b[0mfetched\u001b[0m \u001b[0;34m=\u001b[0m \u001b[0mself\u001b[0m\u001b[0;34m.\u001b[0m\u001b[0m_callable_fn\u001b[0m\u001b[0;34m(\u001b[0m\u001b[0;34m*\u001b[0m\u001b[0marray_vals\u001b[0m\u001b[0;34m)\u001b[0m\u001b[0;34m\u001b[0m\u001b[0m\n\u001b[0m\u001b[1;32m   2676\u001b[0m         \u001b[0;32mreturn\u001b[0m \u001b[0mfetched\u001b[0m\u001b[0;34m[\u001b[0m\u001b[0;34m:\u001b[0m\u001b[0mlen\u001b[0m\u001b[0;34m(\u001b[0m\u001b[0mself\u001b[0m\u001b[0;34m.\u001b[0m\u001b[0moutputs\u001b[0m\u001b[0;34m)\u001b[0m\u001b[0;34m]\u001b[0m\u001b[0;34m\u001b[0m\u001b[0m\n\u001b[1;32m   2677\u001b[0m \u001b[0;34m\u001b[0m\u001b[0m\n",
      "\u001b[0;32m~/anaconda3/envs/tensorflow_p36/lib/python3.6/site-packages/tensorflow/python/client/session.py\u001b[0m in \u001b[0;36m__call__\u001b[0;34m(self, *args, **kwargs)\u001b[0m\n\u001b[1;32m   1456\u001b[0m         ret = tf_session.TF_SessionRunCallable(self._session._session,\n\u001b[1;32m   1457\u001b[0m                                                \u001b[0mself\u001b[0m\u001b[0;34m.\u001b[0m\u001b[0m_handle\u001b[0m\u001b[0;34m,\u001b[0m \u001b[0margs\u001b[0m\u001b[0;34m,\u001b[0m\u001b[0;34m\u001b[0m\u001b[0m\n\u001b[0;32m-> 1458\u001b[0;31m                                                run_metadata_ptr)\n\u001b[0m\u001b[1;32m   1459\u001b[0m         \u001b[0;32mif\u001b[0m \u001b[0mrun_metadata\u001b[0m\u001b[0;34m:\u001b[0m\u001b[0;34m\u001b[0m\u001b[0m\n\u001b[1;32m   1460\u001b[0m           \u001b[0mproto_data\u001b[0m \u001b[0;34m=\u001b[0m \u001b[0mtf_session\u001b[0m\u001b[0;34m.\u001b[0m\u001b[0mTF_GetBuffer\u001b[0m\u001b[0;34m(\u001b[0m\u001b[0mrun_metadata_ptr\u001b[0m\u001b[0;34m)\u001b[0m\u001b[0;34m\u001b[0m\u001b[0m\n",
      "\u001b[0;31mKeyboardInterrupt\u001b[0m: "
     ]
    }
   ],
   "source": [
    "#single_gpu_model = modelCore.create_model(2,False, [7, 15, 31])\n",
    "from keras.callbacks import ModelCheckpoint\n",
    "manTraNet = modelCore.load_pretrain_model_by_index( 4, manTraNet_modelDir )\n",
    "single_gpu_model = manTraNet\n",
    "\n",
    "for layer in single_gpu_model.layers[:5]:\n",
    "    layer.trainable = False\n",
    "#single_gpu_model.summary()    \n",
    "single_gpu_model.compile(optimizer = \"adam\", loss = \"binary_crossentropy\", metrics = [\"accuracy\"])\n",
    "single_gpu_model.summary()\n",
    "filepath = \"output/saved-model-{epoch:02d}.hdf5\"\n",
    "#filepath = \"saved-model-{epoch:02d}-{val_acc:.2f}.hdf5\"\n",
    "checkpoint = ModelCheckpoint(filepath, monitor='val_acc', verbose=0, save_best_only=False, save_weights_only=False, mode='auto', period=1)\n",
    "single_gpu_model.fit(X_train, Y_train, epochs=20, batch_size=4, callbacks = [checkpoint])\n"
   ]
  },
  {
   "cell_type": "code",
   "execution_count": null,
   "metadata": {
    "colab": {
     "base_uri": "https://localhost:8080/",
     "height": 35
    },
    "colab_type": "code",
    "id": "LG3naEAGJiL1",
    "outputId": "e02b3662-bcff-413e-ffbe-d03ac7dcfcdf"
   },
   "outputs": [],
   "source": [
    "#os.chdir('/home/ubuntu/output/')\n",
    "#single_gpu_model.save_weights('saved-model-20.hdf5')"
   ]
  },
  {
   "cell_type": "code",
   "execution_count": 11,
   "metadata": {
    "colab": {},
    "colab_type": "code",
    "id": "dP_St3hDJlVQ"
   },
   "outputs": [
    {
     "name": "stdout",
     "output_type": "stream",
     "text": [
      "1000/1000 [==============================] - 238s 238ms/step\n",
      "\n",
      "Loss = 0.21109786689281462\n",
      "Test Accuracy = 0.93388338804245\n"
     ]
    }
   ],
   "source": [
    "preds = single_gpu_model.evaluate(X_test, Y_test, batch_size=20, verbose=1, sample_weight=None)\n",
    "### END CODE HERE ###\n",
    "print()\n",
    "print (\"Loss = \" + str(preds[0]))\n",
    "print (\"Test Accuracy = \" + str(preds[1]))"
   ]
  },
  {
   "cell_type": "code",
   "execution_count": 24,
   "metadata": {},
   "outputs": [],
   "source": [
    "y_pred=single_gpu_model.predict(X_test)"
   ]
  },
  {
   "cell_type": "code",
   "execution_count": 15,
   "metadata": {},
   "outputs": [],
   "source": [
    "Y_test = Y_test.reshape((Y_test.shape[0] * Y_test.shape[1] * Y_test.shape[2]))\n",
    "Y_test = Y_test > 0.5"
   ]
  },
  {
   "cell_type": "code",
   "execution_count": 36,
   "metadata": {},
   "outputs": [
    {
     "name": "stdout",
     "output_type": "stream",
     "text": [
      "(50176000,) float32\n",
      "(50176000,) bool\n"
     ]
    },
    {
     "data": {
      "text/plain": [
       "0.7980233505374827"
      ]
     },
     "execution_count": 36,
     "metadata": {},
     "output_type": "execute_result"
    }
   ],
   "source": [
    "# calculate confusion matrix\n",
    "from sklearn.metrics import confusion_matrix\n",
    "from sklearn import metrics\n",
    "Y_pred = y_pred.copy()\n",
    "Y_pred = Y_pred.reshape((Y_pred.shape[0] * Y_pred.shape[1] * Y_pred.shape[2]))\n",
    "print(Y_pred.shape, Y_pred.dtype)\n",
    "print(Y_test.shape, Y_test.dtype)\n",
    "#cm=confusion_matrix(Y_test,Y_pred)\n",
    "#print(cm)\n",
    "fpr, tpr, thresholds = metrics.roc_curve(Y_test, Y_pred)\n",
    "AUC = metrics.auc(fpr, tpr)"
   ]
  },
  {
   "cell_type": "code",
   "execution_count": 41,
   "metadata": {},
   "outputs": [],
   "source": [
    "# export and save data\n",
    "import scipy.io as sio\n",
    "sio.savemat('dean1_LADNsmall',{'tpr':tpr, 'fpr':fpr, 'AUC': AUC, 'TestLoss':preds[0], 'TestACC':preds[1]})"
   ]
  },
  {
   "cell_type": "code",
   "execution_count": 37,
   "metadata": {},
   "outputs": [
    {
     "data": {
      "image/png": "[encoded data removed]",
      "text/plain": [
       "<Figure size 432x288 with 1 Axes>"
      ]
     },
     "metadata": {},
     "output_type": "display_data"
    }
   ],
   "source": [
    "import matplotlib.pyplot as plt\n",
    "from sklearn.metrics import roc_curve, auc\n",
    "roc_auc = auc(fpr, tpr)\n",
    "plt.figure()\n",
    "lw = 2\n",
    "plt.plot(fpr, tpr, color='darkorange',\n",
    "         lw=lw, label='ROC curve (area = %0.2f)' % roc_auc)\n",
    "plt.plot([0, 1], [0, 1], color='navy', lw=lw, linestyle='--')\n",
    "plt.xlim([0.0, 1.0])\n",
    "plt.ylim([0.0, 1.05])\n",
    "plt.xlabel('False Positive Rate')\n",
    "plt.ylabel('True Positive Rate')\n",
    "plt.title('Receiver operating characteristic example')\n",
    "plt.legend(loc=\"lower right\")\n",
    "plt.show()"
   ]
  },
  {
   "cell_type": "code",
   "execution_count": 8,
   "metadata": {},
   "outputs": [
    {
     "name": "stdout",
     "output_type": "stream",
     "text": [
      "INFO: use activation in the last CONV=tanh\n",
      "INFO: unfreeze feature extraction part, trainable=True\n",
      "INFO: freeze image_in\n",
      "INFO: freeze b1c1\n",
      "INFO: freeze b1c2\n",
      "INFO: freeze b2c1\n",
      "INFO: freeze b2c2\n"
     ]
    }
   ],
   "source": [
    "# Check original ManTraNet performance\n",
    "manTraNet_origin = modelCore.load_pretrain_model_by_index( 0, manTraNet_modelDir )"
   ]
  },
  {
   "cell_type": "code",
   "execution_count": 9,
   "metadata": {},
   "outputs": [
    {
     "name": "stdout",
     "output_type": "stream",
     "text": [
      "WARNING:tensorflow:From /home/ubuntu/anaconda3/envs/tensorflow_p36/lib/python3.6/site-packages/keras/optimizers.py:790: The name tf.train.Optimizer is deprecated. Please use tf.compat.v1.train.Optimizer instead.\n",
      "\n",
      "WARNING:tensorflow:From /home/ubuntu/anaconda3/envs/tensorflow_p36/lib/python3.6/site-packages/tensorflow/python/ops/nn_impl.py:180: add_dispatch_support.<locals>.wrapper (from tensorflow.python.ops.array_ops) is deprecated and will be removed in a future version.\n",
      "Instructions for updating:\n",
      "Use tf.where in 2.0, which has the same broadcast rule as np.where\n",
      "1000/1000 [==============================] - 256s 256ms/step\n",
      "\n",
      "Loss = 0.2803629846870899\n",
      "Test Accuracy = 0.9193386542797088\n"
     ]
    }
   ],
   "source": [
    "manTraNet_origin.compile(optimizer = \"adam\", loss = \"binary_crossentropy\", metrics = [\"accuracy\"])\n",
    "preds = manTraNet_origin.evaluate(X_test, Y_test, batch_size=20, verbose=1, sample_weight=None)\n",
    "### END CODE HERE ###\n",
    "print()\n",
    "print (\"Loss = \" + str(preds[0]))\n",
    "print (\"Test Accuracy = \" + str(preds[1]))\n",
    "\n"
   ]
  },
  {
   "cell_type": "code",
   "execution_count": 11,
   "metadata": {},
   "outputs": [],
   "source": [
    "y_pred=manTraNet_origin.predict(X_test)"
   ]
  },
  {
   "cell_type": "code",
   "execution_count": 12,
   "metadata": {},
   "outputs": [],
   "source": [
    "Y_test = Y_test.reshape((Y_test.shape[0] * Y_test.shape[1] * Y_test.shape[2]))\n",
    "Y_test = Y_test > 0.5"
   ]
  },
  {
   "cell_type": "code",
   "execution_count": 13,
   "metadata": {},
   "outputs": [
    {
     "name": "stdout",
     "output_type": "stream",
     "text": [
      "(50176000,) float32\n",
      "(50176000,) bool\n"
     ]
    }
   ],
   "source": [
    "# calculate confusion matrix\n",
    "from sklearn.metrics import confusion_matrix\n",
    "from sklearn import metrics\n",
    "Y_pred = y_pred.copy()\n",
    "Y_pred = Y_pred.reshape((Y_pred.shape[0] * Y_pred.shape[1] * Y_pred.shape[2]))\n",
    "print(Y_pred.shape, Y_pred.dtype)\n",
    "print(Y_test.shape, Y_test.dtype)\n",
    "#cm=confusion_matrix(Y_test,Y_pred)\n",
    "#print(cm)\n",
    "fpr, tpr, thresholds = metrics.roc_curve(Y_test, Y_pred)\n",
    "AUC = metrics.auc(fpr, tpr)"
   ]
  },
  {
   "cell_type": "code",
   "execution_count": 14,
   "metadata": {},
   "outputs": [],
   "source": [
    "# export and save data\n",
    "import scipy.io as sio\n",
    "sio.savemat('dean1_LADNsmall_mantranet',{'tpr':tpr, 'fpr':fpr, 'AUC': AUC, 'TestLoss':preds[0], 'TestACC':preds[1]})"
   ]
  },
  {
   "cell_type": "code",
   "execution_count": 15,
   "metadata": {},
   "outputs": [
    {
     "data": {
      "image/png": "[encoded data removed]",
      "text/plain": [
       "<Figure size 432x288 with 1 Axes>"
      ]
     },
     "metadata": {},
     "output_type": "display_data"
    }
   ],
   "source": [
    "import matplotlib.pyplot as plt\n",
    "from sklearn.metrics import roc_curve, auc\n",
    "roc_auc = auc(fpr, tpr)\n",
    "plt.figure()\n",
    "lw = 2\n",
    "plt.plot(fpr, tpr, color='darkorange',\n",
    "         lw=lw, label='ROC curve (area = %0.2f)' % roc_auc)\n",
    "plt.plot([0, 1], [0, 1], color='navy', lw=lw, linestyle='--')\n",
    "plt.xlim([0.0, 1.0])\n",
    "plt.ylim([0.0, 1.05])\n",
    "plt.xlabel('False Positive Rate')\n",
    "plt.ylabel('True Positive Rate')\n",
    "plt.title('Receiver operating characteristic example')\n",
    "plt.legend(loc=\"lower right\")\n",
    "plt.show()"
   ]
  },
  {
   "cell_type": "code",
   "execution_count": null,
   "metadata": {},
   "outputs": [],
   "source": []
  }
 ],
 "metadata": {
  "accelerator": "GPU",
  "colab": {
   "name": "Yitao_ManTraNet-Demo.ipynb",
   "provenance": [],
   "toc_visible": true
  },
  "kernelspec": {
   "display_name": "Python [conda env:tensorflow_p36]",
   "language": "python",
   "name": "conda-env-tensorflow_p36-py"
  },
  "language_info": {
   "codemirror_mode": {
    "name": "ipython",
    "version": 3
   },
   "file_extension": ".py",
   "mimetype": "text/x-python",
   "name": "python",
   "nbconvert_exporter": "python",
   "pygments_lexer": "ipython3",
   "version": "3.6.5"
  }
 },
 "nbformat": 4,
 "nbformat_minor": 1
}
