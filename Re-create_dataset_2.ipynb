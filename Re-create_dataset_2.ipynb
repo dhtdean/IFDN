{
 "cells": [
  {
   "cell_type": "code",
   "execution_count": 3,
   "metadata": {},
   "outputs": [],
   "source": [
    "import numpy as np\n",
    "import os\n",
    "import glob\n",
    "from math import floor\n",
    "import random\n",
    "import time\n",
    "import cv2"
   ]
  },
  {
   "cell_type": "code",
   "execution_count": null,
   "metadata": {},
   "outputs": [],
   "source": []
  },
  {
   "cell_type": "code",
   "execution_count": 4,
   "metadata": {},
   "outputs": [],
   "source": [
    "# check data with boundary\n",
    "def check_data(Y):\n",
    "    count_mixed = 0\n",
    "    count_all_true = 0\n",
    "    count_all_false = 0\n",
    "    for i in range(Y.shape[0]):\n",
    "        if np.sum(Y[i]) == 224 * 224:\n",
    "            count_all_false += 1\n",
    "        elif np.sum(Y[i]) == 0:\n",
    "            count_all_true += 1\n",
    "        else:\n",
    "            count_mixed += 1\n",
    "    print('--- # of all real images is ' + str(count_all_true))\n",
    "    print('--- # of all forged images is ' + str(count_all_false))\n",
    "    print('--- # of mixed images is ' + str(count_mixed))"
   ]
  },
  {
   "cell_type": "code",
   "execution_count": 5,
   "metadata": {},
   "outputs": [],
   "source": [
    "# add forgery to \n",
    "import os\n",
    "import glob\n",
    "from math import floor\n",
    "import random\n",
    "import time\n",
    "import cv2\n",
    "\n",
    "def read_image_cm_data(X_train, Y_train, row_size, col_size):\n",
    "    for filename in glob.glob('*copy.png'):\n",
    "        prefix = filename[0:-9]\n",
    "        X_fake = cv2.imread(prefix+'_copy.png') / 255 * 2 - 1\n",
    "        X_true = cv2.imread(prefix+'.png') / 255 * 2 - 1\n",
    "        \n",
    "        Y_fake = np.expand_dims(cv2.imread(prefix+'_1_alpha.png', 0), axis = -1) / 255\n",
    "        if os.path.exists(prefix+'_2_alpha.png'):\n",
    "            Y_fake = np.logical_or(Y_fake, np.expand_dims(cv2.imread(prefix+'_2_alpha.png', 0), axis = -1) / 255)\n",
    "        if os.path.exists(prefix+'_3_alpha.png'):\n",
    "            Y_fake = np.logical_or(Y_fake, np.expand_dims(cv2.imread(prefix+'_3_alpha.png', 0), axis = -1) / 255)\n",
    "        if os.path.exists(prefix+'_4_alpha.png'):\n",
    "            Y_fake = np.logical_or(Y_fake, np.expand_dims(cv2.imread(prefix+'_4_alpha.png', 0), axis = -1) / 255)\n",
    "\n",
    "        num_row_split = floor(X_fake.shape[0] / row_size) # round down\n",
    "        num_col_split = floor(X_fake.shape[1] / col_size) # round down\n",
    "        for i in range(num_row_split):\n",
    "            for j in range(num_col_split):\n",
    "                splitted_image_X_fake = X_fake[i*row_size:(i+1)*row_size, j*col_size:(j+1)*col_size, :]\n",
    "                splitted_image_Y_fake = Y_fake[i*row_size:(i+1)*row_size, j*col_size:(j+1)*col_size, :]\n",
    "                splitted_image_X_true = X_true[i*row_size:(i+1)*row_size, j*col_size:(j+1)*col_size, :]\n",
    "                X_train.append(splitted_image_X_fake)\n",
    "                #X_train.append(splitted_image_X_true)\n",
    "                Y_train.append(splitted_image_Y_fake)\n",
    "                #Y_train.append(np.ones((row_size, col_size,1)))\n",
    "def weaken_RGB(RGB, original_image, x, y, w, h, coeffi):\n",
    "    weaken_image = original_image\n",
    "    weaken_Y     = np.zeros((original_image.shape[0], original_image.shape[1], 1))\n",
    "    for i in range(w):\n",
    "        for j in range(h):\n",
    "            weaken_Y[y+j, x+i,:] = 1.0\n",
    "            if RGB < 4:\n",
    "                weaken_image[y+j, x+i,RGB-1] = weaken_image[y+j, x+i,RGB-1] * coeffi\n",
    "            elif RGB == 4:\n",
    "                weaken_image[y+j, x+i,0] = weaken_image[y+j, x+i,0] * coeffi\n",
    "                weaken_image[y+j, x+i,1] = weaken_image[y+j, x+i,1] * coeffi\n",
    "            elif RGB == 5:\n",
    "                weaken_image[y+j, x+i,0] = weaken_image[y+j, x+i,0] * coeffi\n",
    "                weaken_image[y+j, x+i,2] = weaken_image[y+j, x+i,2] * coeffi\n",
    "            elif RGB == 6:\n",
    "                weaken_image[y+j, x+i,1] = weaken_image[y+j, x+i,1] * coeffi\n",
    "                weaken_image[y+j, x+i,2] = weaken_image[y+j, x+i,2] * coeffi\n",
    "            elif RGB == 7:\n",
    "                weaken_image[y+j, x+i,0] = weaken_image[y+j, x+i,0] * coeffi\n",
    "                weaken_image[y+j, x+i,1] = weaken_image[y+j, x+i,1] * coeffi\n",
    "                weaken_image[y+j, x+i,2] = weaken_image[y+j, x+i,2] * coeffi\n",
    "    return weaken_image, weaken_Y\n",
    "                \n",
    "def read_image_dresden_data(X_train, Y_train, row_size, col_size):\n",
    "    count = 0\n",
    "    false_ratio = []\n",
    "    for filename in glob.glob('*.jpg'):\n",
    "        if len(X_train) >= 10000:\n",
    "            break\n",
    "        start = time.time()\n",
    "        count += 1\n",
    "        if count % 100 == 0:\n",
    "            print(count)\n",
    "        X_true = cv2.imread(filename) / 255 * 2 - 1\n",
    "        coord1 = random.random() * 0.7\n",
    "        coord2 = random.random() * 0.7\n",
    "        width  = 1.1\n",
    "        height = 1.1\n",
    "        must_exit = False\n",
    "        while (coord1 + width > 0.99):\n",
    "            end = time.time()\n",
    "            if (end-start) > 10:\n",
    "                print(filename)\n",
    "                must_exit = True\n",
    "                break\n",
    "            width = random.random() * 0.1 +0.28  # 0.07 ~ 0.1\n",
    "            \n",
    "        while (coord2 + height > 0.99):\n",
    "            end = time.time()\n",
    "            if (end-start) > 10:\n",
    "                print(filename)\n",
    "                must_exit = True\n",
    "                break\n",
    "            height = random.random() * 0.1 +0.28  # 0.07 ~ 0.1\n",
    "        if must_exit:\n",
    "            break\n",
    "        x = round(coord1 * X_true.shape[1])\n",
    "        y = round(coord2 * X_true.shape[0])\n",
    "        w = round(width  * X_true.shape[1])\n",
    "        h = round(height * X_true.shape[0])\n",
    "        false_ratio.append(w*h/X_true.shape[1]/X_true.shape[0]);\n",
    "        \n",
    "        RGB = random.randint(1,7)\n",
    "        coeffi = random.random() * 0.7\n",
    "        X_fake, Y_fake = weaken_RGB(RGB, X_true, x, y, w, h, coeffi)\n",
    "        \n",
    "        num_row_split = floor(X_true.shape[0] / row_size) # round down\n",
    "        num_col_split = floor(X_true.shape[1] / col_size) # round down\n",
    "        for i in range(num_row_split):\n",
    "            for j in range(num_col_split):\n",
    "                splitted_image_X_fake = X_fake[i*row_size:(i+1)*row_size, j*col_size:(j+1)*col_size, :]\n",
    "                splitted_image_Y_fake = Y_fake[i*row_size:(i+1)*row_size, j*col_size:(j+1)*col_size, :]\n",
    "                if len(X_train) < 10000:\n",
    "                    X_train.append(splitted_image_X_fake)\n",
    "                    Y_train.append(splitted_image_Y_fake)\n",
    "    print(sum(false_ratio)/len(false_ratio))"
   ]
  },
  {
   "cell_type": "code",
   "execution_count": 6,
   "metadata": {},
   "outputs": [],
   "source": [
    "row_size = 224\n",
    "col_size = 224\n",
    "X_train = []\n",
    "Y_train = []"
   ]
  },
  {
   "cell_type": "code",
   "execution_count": 7,
   "metadata": {},
   "outputs": [
    {
     "name": "stdout",
     "output_type": "stream",
     "text": [
      "1 finish\n",
      "2 finish\n",
      "3 finish\n",
      "4 finish\n"
     ]
    }
   ],
   "source": [
    "os.chdir('/home/ubuntu/cs230_project_shared/benchmark_data_copy_move/C1_panasonic/')\n",
    "read_image_cm_data(X_train, Y_train, row_size, col_size)\n",
    "print('1 finish')\n",
    "os.chdir('/home/ubuntu/cs230_project_shared/benchmark_data_copy_move/C2_canon/')\n",
    "read_image_cm_data(X_train, Y_train, row_size, col_size)\n",
    "print('2 finish')\n",
    "os.chdir('/home/ubuntu/cs230_project_shared/benchmark_data_copy_move/C3_nikon/')\n",
    "read_image_cm_data(X_train, Y_train, row_size, col_size)\n",
    "print('3 finish')\n",
    "os.chdir('/home/ubuntu/cs230_project_shared/benchmark_data_copy_move/C4_flickr/')\n",
    "read_image_cm_data(X_train, Y_train, row_size, col_size)\n",
    "print('4 finish')\n"
   ]
  },
  {
   "cell_type": "code",
   "execution_count": 8,
   "metadata": {},
   "outputs": [
    {
     "name": "stdout",
     "output_type": "stream",
     "text": [
      "100\n",
      "200\n",
      "300\n",
      "400\n",
      "500\n",
      "600\n",
      "700\n",
      "800\n",
      "900\n",
      "1000\n",
      "1100\n",
      "1200\n",
      "1300\n",
      "0.10659527947206612\n"
     ]
    }
   ],
   "source": [
    "os.chdir('/home/ubuntu/cs230_project_shared/val2017_unsure_type_cocodataset')\n",
    "read_image_dresden_data(X_train, Y_train, row_size, col_size)\n"
   ]
  },
  {
   "cell_type": "code",
   "execution_count": 9,
   "metadata": {},
   "outputs": [],
   "source": [
    "def train_dev_test_split(X,Y,ratio = [8,1,1]):\n",
    "    np.random.seed(0)\n",
    "    r_total = np.sum(ratio)\n",
    "    ind0 = int(ratio[0]/r_total * X.shape[0])\n",
    "    ind1 = int((ratio[1] + ratio[0])/r_total * X.shape[0])\n",
    "    indices = np.random.permutation(X.shape[0])\n",
    "    train_idx, dev_idx, test_idx = indices[:ind0], indices[ind0:ind1], indices[ind1:]\n",
    "    x_train, x_dev, x_test = X[train_idx,:], X[dev_idx,:], X[test_idx,:]\n",
    "    y_train, y_dev, y_test = Y[train_idx,:], Y[dev_idx,:], Y[test_idx,:]\n",
    "    return x_train, y_train, x_dev, y_dev, x_test, y_test"
   ]
  },
  {
   "cell_type": "code",
   "execution_count": 10,
   "metadata": {},
   "outputs": [
    {
     "name": "stdout",
     "output_type": "stream",
     "text": [
      "10000\n",
      "4472.783676862741\n",
      "(10000, 224, 224, 3)\n"
     ]
    }
   ],
   "source": [
    "print(len(X_train))\n",
    "X_train = np.array(X_train)\n",
    "Y_train = np.array(Y_train)\n",
    "print(np.sum(Y_train)/Y_train.shape[0])\n",
    "print(X_train.shape)\n"
   ]
  },
  {
   "cell_type": "code",
   "execution_count": 18,
   "metadata": {},
   "outputs": [
    {
     "name": "stdout",
     "output_type": "stream",
     "text": [
      "8163.315217156872\n"
     ]
    }
   ],
   "source": [
    "false_ratio = []\n",
    "for i in range(len(X_train)):\n",
    "    if (np.sum(Y_train[i]) == 0):\n",
    "        if random.random() > 0.025:\n",
    "            coord1 = random.random() * 0.7\n",
    "            coord2 = random.random() * 0.7\n",
    "            width  = 1.1\n",
    "            height = 1.1\n",
    "            must_exit = False\n",
    "            start = time.time()\n",
    "            while (coord1 + width > 0.99):\n",
    "                end = time.time()\n",
    "                if (end-start) > 10:\n",
    "                    print(filename)\n",
    "                    must_exit = True\n",
    "                    break\n",
    "                width = random.random() * 0.1 +0.28  # 0.07 ~ 0.1\n",
    "            \n",
    "            while (coord2 + height > 0.99):\n",
    "                end = time.time()\n",
    "                if (end-start) > 10:\n",
    "                    print(filename)\n",
    "                    must_exit = True\n",
    "                    break\n",
    "                height = random.random() * 0.1 +0.28  # 0.07 ~ 0.1\n",
    "            if must_exit:\n",
    "                break\n",
    "            x = round(coord1 * Y_train[i].shape[1])\n",
    "            y = round(coord2 * Y_train[i].shape[0])\n",
    "            w = round(width  * Y_train[i].shape[1])\n",
    "            h = round(height * Y_train[i].shape[0])\n",
    "            false_ratio.append(w*h/224/224);\n",
    "            RGB = random.randint(1,7)\n",
    "            coeffi = random.random() * 0.7\n",
    "            X_fake, Y_fake = weaken_RGB(RGB, X_train[i], x, y, w, h, coeffi)\n",
    "            X_train[i] = X_fake\n",
    "            Y_train[i] = Y_fake\n",
    "print(np.sum(Y_train)/Y_train.shape[0])"
   ]
  },
  {
   "cell_type": "code",
   "execution_count": 19,
   "metadata": {},
   "outputs": [],
   "source": [
    "[X_train, Y_train, X_dev, Y_dev, X_test, Y_test] = train_dev_test_split(X_train[:,:,:,:],Y_train[:,:,:,:])\\"
   ]
  },
  {
   "cell_type": "code",
   "execution_count": 20,
   "metadata": {},
   "outputs": [
    {
     "name": "stdout",
     "output_type": "stream",
     "text": [
      "--- check train set ---\n",
      "--- # of all real images is 103\n",
      "--- # of all forged images is 105\n",
      "--- # of mixed images is 6192\n",
      "8093.436319240206\n",
      "--- check dev set ---\n",
      "--- # of all real images is 23\n",
      "--- # of all forged images is 15\n",
      "--- # of mixed images is 762\n",
      "8457.038681372549\n",
      "--- check test set ---\n",
      "--- # of all real images is 17\n",
      "--- # of all forged images is 18\n",
      "--- # of mixed images is 765\n",
      "8428.622936274505\n"
     ]
    }
   ],
   "source": [
    "print('--- check train set ---')\n",
    "check_data(Y_train)\n",
    "print(np.sum(Y_train)/Y_train.shape[0])\n",
    "print('--- check dev set ---')\n",
    "check_data(Y_dev)\n",
    "print(np.sum(Y_dev)/Y_dev.shape[0])\n",
    "print('--- check test set ---')\n",
    "check_data(Y_test)\n",
    "print(np.sum(Y_test)/Y_test.shape[0])"
   ]
  },
  {
   "cell_type": "code",
   "execution_count": null,
   "metadata": {},
   "outputs": [],
   "source": []
  },
  {
   "cell_type": "code",
   "execution_count": 21,
   "metadata": {},
   "outputs": [],
   "source": [
    "os.chdir('/home/ubuntu/')\n",
    "np.save('X_train_2', X_train)\n",
    "np.save('X_dev_2', X_dev)\n",
    "np.save('X_test_2', X_test)\n",
    "np.save('Y_dev_2', Y_dev)\n",
    "np.save('Y_train_2', Y_train)\n",
    "np.save('Y_test_2', Y_test)"
   ]
  },
  {
   "cell_type": "code",
   "execution_count": null,
   "metadata": {},
   "outputs": [],
   "source": []
  }
 ],
 "metadata": {
  "kernelspec": {
   "display_name": "Python [conda env:tensorflow_p36]",
   "language": "python",
   "name": "conda-env-tensorflow_p36-py"
  },
  "language_info": {
   "codemirror_mode": {
    "name": "ipython",
    "version": 3
   },
   "file_extension": ".py",
   "mimetype": "text/x-python",
   "name": "python",
   "nbconvert_exporter": "python",
   "pygments_lexer": "ipython3",
   "version": "3.6.5"
  }
 },
 "nbformat": 4,
 "nbformat_minor": 2
}
